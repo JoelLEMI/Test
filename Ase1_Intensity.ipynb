{
  "nbformat": 4,
  "nbformat_minor": 0,
  "metadata": {
    "colab": {
      "provenance": [],
      "authorship_tag": "ABX9TyOxSYky5lweakwiBWR6C5rT",
      "include_colab_link": true
    },
    "kernelspec": {
      "name": "python3",
      "display_name": "Python 3"
    },
    "language_info": {
      "name": "python"
    }
  },
  "cells": [
    {
      "cell_type": "markdown",
      "metadata": {
        "id": "view-in-github",
        "colab_type": "text"
      },
      "source": [
        "<a href=\"https://colab.research.google.com/github/JoelLEMI/Test/blob/main/Ase1_Intensity.ipynb\" target=\"_parent\"><img src=\"https://colab.research.google.com/assets/colab-badge.svg\" alt=\"Open In Colab\"/></a>"
      ]
    },
    {
      "cell_type": "markdown",
      "source": [
        "This code accesses a GitHub folder containing raw data: spindle positions (x, y) and Ase1 intensity along two spindles. It analyzes the curvature of each spindle and plots the results.\n",
        "\n",
        "The spindles are aligned parallel to the X-axis, and the Ase1 intensity is interpolated along that axis. The code generates a figure and records the following values:\n",
        "\n",
        "\n",
        "*   X1 and X2: the X-axis positions where Ase1 is localized\n",
        "*   Ase1 length\n",
        "*   Spindle length (as the X-axis projection)\n",
        "\n",
        "These values are needed for the associated MATLAB code.\n",
        "\n",
        "You can run this notebook in Google Colab by clicking the \"Open in Colab\" link above."
      ],
      "metadata": {
        "id": "a-R42ir6Vbej"
      }
    },
    {
      "cell_type": "markdown",
      "source": [],
      "metadata": {
        "id": "IcUQ2DuLVKyp"
      }
    },
    {
      "cell_type": "code",
      "source": [
        "import pandas as pd\n",
        "import numpy as np\n",
        "import math\n",
        "from scipy.interpolate import interp1d\n",
        "import csv\n",
        "from scipy import signal\n",
        "from matplotlib import pylab as plt\n",
        "from scipy.optimize import curve_fit\n",
        "from scipy import stats\n",
        "from PIL import Image\n",
        "from pylab import *\n",
        "import matplotlib.image as mpimg\n",
        "import matplotlib.pyplot as plt\n",
        "import seaborn as sns\n",
        "from itertools import accumulate\n",
        "\n",
        "\n",
        "def rad_from_points(x1, y1, x2, y2, x3, y3):\n",
        "\n",
        "    '''\n",
        "    takes coordinates of three points, (x1, y1), (x2, y2), and (x3, y3)\n",
        "    and returns the radius (r), and the coordinates of the center (xc, yc)\n",
        "    of the circle that passes through the three points.\n",
        "\n",
        "    The center of the circle can be found by finding the intersection\n",
        "    of the line that bisects the segment formed by (x1, y1) and (x2, y2),\n",
        "    and the line that bisects the segment formed by (x2, y2) and (x3, y3).\n",
        "    '''\n",
        "\n",
        "    ma = (y2 - y1)/(x2 - x1)\n",
        "    mb = (y3 - y2)/(x3 - x2)\n",
        "\n",
        "    xc = (ma*mb*(y1 - y3) + mb*(x1 + x2) - ma*(x2 + x3))/(2*(mb - ma))\n",
        "    yc = -1/ma*(xc - (x1 + x2)/2) + (y1 + y2)/2\n",
        "\n",
        "    if ma == mb:\n",
        "        r = np.inf\n",
        "    else:\n",
        "        r = np.hypot(xc - x1, yc - y1)\n",
        "\n",
        "    return(r, xc, yc)\n",
        "\n",
        "\n",
        "def radius_of_curvature_open(x_path, y_path, scale):\n",
        "\n",
        "    '''\n",
        "    takes a path and returns the signed curvature value at each\n",
        "    point (along w/ the centers\n",
        "    that form the evolute of the curve)\n",
        "    '''\n",
        "\n",
        "    r = []\n",
        "    xcs = []\n",
        "    ycs = []\n",
        "\n",
        "    num_points = len(x_path)\n",
        "\n",
        "    for i in range(scale,num_points-scale):\n",
        "        # points\n",
        "        x1 = x_path[i-int(scale)]\n",
        "        y1 = y_path[i-int(scale)]\n",
        "        x2 = x_path[i]\n",
        "        y2 = y_path[i]\n",
        "        x3 = x_path[i+int(scale)]\n",
        "        y3 = y_path[i+int(scale)]\n",
        "\n",
        "        # fit circle\n",
        "        rad, xc, yc = rad_from_points(x1, y1, x2, y2, x3, y3)\n",
        "\n",
        "        # get vector normal to path for sign of curvature\n",
        "        nv1 = np.cross(np.array([x2 - x1, y2 - y1, 0]), np.array([0 ,0, 1]))\n",
        "        nv2 = np.cross(np.array([x3 - x2, y3 - y2, 0]), np.array([0 ,0, 1]))\n",
        "\n",
        "        nv = np.average([nv1, nv2], axis = 0)\n",
        "\n",
        "        # get sign of dot product (and flip for convention that positive curvature is inward)\n",
        "        align = -np.sign(np.dot(nv[0:2], np.array([x2 - xc, y2 - yc])))\n",
        "\n",
        "\n",
        "        theta = np.linspace(-math.pi, math.pi, 100)\n",
        "        x_plot = rad * np.cos(theta) + xc\n",
        "        y_plot = rad * np.sin(theta) + yc\n",
        "\n",
        "        if rad == 0:\n",
        "            r.append(np.nan)\n",
        "        else:\n",
        "            r.append(align * 1./rad)\n",
        "\n",
        "        xcs.append(xc)\n",
        "        ycs.append(yc)\n",
        "\n",
        "    return(r, xcs, ycs)\n",
        "\n",
        "def rotation(x_arr,y_arr,angle):\n",
        "    \"\"\"Rotates a point around the origin (0,0) in the clockwise direction.\n",
        "       Angle is in radians. Point is a tuple\"\"\"\n",
        "    x_rot_arr, y_rot_arr = (x_arr*np.cos(angle)+y_arr*np.sin(angle),-x_arr*np.sin(angle)+y_arr*np.cos(angle))\n",
        "    return x_rot_arr, y_rot_arr\n",
        "\n",
        "def translation(x_arr,y_arr):\n",
        "    \"\"\"translate all points so that the first smallest value is the origin (0,0)\"\"\"\n",
        "    if x_arr[99] <= x_arr[0]:\n",
        "        x_trans_arr, y_trans_arr = (x_arr-x_arr[99],y_arr-y_arr[99])\n",
        "    else:\n",
        "        x_trans_arr, y_trans_arr = (x_arr-x_arr[0],y_arr-y_arr[0])\n",
        "    return x_trans_arr, y_trans_arr\n",
        "\n",
        "def flip(x_arr,y_arr):\n",
        "    \"\"\"flip the values in Y to get the curvarture upward all the time\"\"\"\n",
        "    if min(y_arr) <= 0:\n",
        "        y_flip_arr = (y_arr*-1)\n",
        "    else:\n",
        "        y_flip_arr =y_arr\n",
        "    return x_arr, y_flip_arr\n",
        "\n",
        "def reverse(x_arr,y_arr):\n",
        "    \"\"\"reverse values in X and get the values in rising order -important for curvature calculation- \"\"\"\n",
        "    if x_arr[99] <= x_arr[0]:\n",
        "        x_rev=x_arr[::-1].reset_index(drop=True) ## twinking to reset the index after reversing\n",
        "        y_rev=y_arr#[::-1]\n",
        "    else:\n",
        "        x_rev=x_arr\n",
        "        y_rev=y_arr\n",
        "    return x_rev, y_rev"
      ],
      "metadata": {
        "id": "iuxH7qFmVKer"
      },
      "execution_count": null,
      "outputs": []
    },
    {
      "cell_type": "code",
      "source": [
        "'''\n",
        "    Option 1: Getting Data from GitHub\n",
        "    '''\n",
        "import os\n",
        "# Base GitHub URL\n",
        "folder_path = \"https://raw.githubusercontent.com/JoelLEMI/Test/refs/heads/main/Data/Spindle%20Example%20Data/\"\n",
        "\n",
        "# Subfolder 'sp'\n",
        "loc = os.path.join(folder_path, 'sp')\n",
        "\n",
        "# Excluded Spindles (if data are not good enough for analysis)\n",
        "Excluded = []"
      ],
      "metadata": {
        "id": "0P2Jm703Vw2H"
      },
      "execution_count": null,
      "outputs": []
    },
    {
      "cell_type": "code",
      "source": [
        "scale=0 # I am not measuring curvature here\n",
        "Ase1Boundary = [] # To save data on Ase1 location\n",
        "L_Sp = [] #Spindle x-axis projected length\n",
        "Sp_name = [] # To keep the name of the Sp\n",
        "\n",
        "for i in range(3,5):\n",
        "    if i in Excluded: #Add exclude not well imaged spindles from the analysis\n",
        "            continue\n",
        "    data=pd.read_csv('%s%s/sp%s.csv'%(loc,i,i))\n",
        "    y_path_1=data[\"Y\"]\n",
        "    x_path_1=data[\"X\"]\n",
        "\n",
        "    ##rotate the data using the angle between the first and last point\n",
        "    x_path_2,y_path_2 = reverse(x_path_1,y_path_1)\n",
        "    angle = np.arctan((y_path_2[0] - y_path_2[99]) / (x_path_2[0] - x_path_2[99]))\n",
        "    x_path_3,y_path_3 = rotation(x_path_2,y_path_2,angle)\n",
        "    x_path_4,y_path_4 = translation(x_path_3,y_path_3)\n",
        "    x_path,y_path = flip(x_path_4,y_path_4)\n",
        "\n",
        "    # Input list initialization\n",
        "    Inputx = x_path\n",
        "    Inputy = y_path\n",
        "\n",
        "    # list of length in which we have to split\n",
        "    length_to_split = [scale, 100-2*scale, scale]\n",
        "\n",
        "    # Using islice\n",
        "    Outputx = [Inputx[x - y: x] for x, y in zip(accumulate(length_to_split), length_to_split)][1]\n",
        "    Outputy = [Inputy[x - y: x] for x, y in zip(accumulate(length_to_split), length_to_split)][1]\n",
        "\n",
        "    ##Ase1 Background Value per movie\n",
        "    dataBG=pd.read_csv('%s%s/ase1_BG_sp%s.csv'%(loc,i,i), usecols= [\"Mean\"], nrows=1) #Reads Ase1 background intensity\n",
        "    dataBG=dataBG[\"Mean\"]\n",
        "\n",
        "    ###Ase1\n",
        "    data=pd.read_csv(f\"{loc}{i}/Plot%20Values%20sp{i}.csv\", encoding='latin1') # Open Ase1 intensity data\n",
        "    y_int_1=data[\"Value\"]-dataBG[0] #remove the background intensity from Ase1 value\n",
        "    x_coord_1=data.iloc[:, 0]\n",
        "\n",
        "    f = interp1d(x_coord_1, y_int_1, kind='cubic') #Interpolate the intensity to align with spindle length\n",
        "    xnew = np.linspace(0, x_coord_1[len(x_coord_1)-1], num=100, endpoint=True) #create 100 points along the spindle\n",
        "\n",
        "    # Replace values below A with 0 and values above A with 1, A is the intensity treshold\n",
        "    A=0.15*max(f(xnew)[20:81]) # Looking at the middle of the spindle intensity\n",
        "    transformed_array = np.where(f(xnew) < A, 0, 1)\n",
        "\n",
        "    # Create the first plot\n",
        "    a4_dims = (3,1.5)\n",
        "    fig, ax1 = plt.subplots(figsize=a4_dims)\n",
        "    sns.set_context(\"notebook\", font_scale=1.5)\n",
        "\n",
        "    # Create the second y-axis\n",
        "    ax2 = ax1.twinx()\n",
        "    ax2.plot(Outputx, Outputy, color='green',marker='.',alpha=1, markersize=0.1)\n",
        "    ax2.scatter(Outputx,Outputy,marker='o',c=transformed_array,cmap=matplotlib.colors.ListedColormap(['white', 'magenta']), vmin=0, vmax=1,s=25,alpha=0.5)\n",
        "\n",
        "\n",
        "    ax1.set_xlabel('X [µm]',fontsize=12)\n",
        "    ax1.set_ylabel('Ase1 localization',fontsize=12, color='magenta')\n",
        "    ax2.set_ylabel('Spindle Y [µm]',fontsize=12, color='green')\n",
        "\n",
        "    # Set the size of ticks on the second y-axis\n",
        "    tick_size_y = 12\n",
        "    ax1.tick_params(axis='both', labelsize=tick_size_y)\n",
        "    ax2.tick_params(axis='y', labelsize=tick_size_y)\n",
        "\n",
        "    ax1.set_ylim([0,3])\n",
        "    ax2.set_ylim([0,3])\n",
        "    ax1.set_xlim([0,6])"
      ],
      "metadata": {
        "colab": {
          "base_uri": "https://localhost:8080/",
          "height": 411
        },
        "id": "1snuvyNsVzNn",
        "outputId": "81e4ca05-27d1-487d-f9e0-84c3757577a5"
      },
      "execution_count": null,
      "outputs": [
        {
          "output_type": "display_data",
          "data": {
            "text/plain": [
              "<Figure size 300x150 with 2 Axes>"
            ],
            "image/png": "[encoded data removed]"
          },
          "metadata": {}
        },
        {
          "output_type": "display_data",
          "data": {
            "text/plain": [
              "<Figure size 300x150 with 2 Axes>"
            ],
            "image/png": "[encoded data removed]"
          },
          "metadata": {}
        }
      ]
    }
  ]
}