{
  "nbformat": 4,
  "nbformat_minor": 0,
  "metadata": {
    "colab": {
      "provenance": [],
      "authorship_tag": "ABX9TyM5SFmsvE266JzEMtm0JGSF",
      "include_colab_link": true
    },
    "kernelspec": {
      "name": "python3",
      "display_name": "Python 3"
    },
    "language_info": {
      "name": "python"
    }
  },
  "cells": [
    {
      "cell_type": "markdown",
      "metadata": {
        "id": "view-in-github",
        "colab_type": "text"
      },
      "source": [
        "<a href=\"https://colab.research.google.com/github/JoelLEMI/Test/blob/main/Local_curvarture_spindle.ipynb\" target=\"_parent\"><img src=\"https://colab.research.google.com/assets/colab-badge.svg\" alt=\"Open In Colab\"/></a>"
      ]
    },
    {
      "cell_type": "markdown",
      "source": [
        "This code accesses a Google Drive folder containing raw data from two spindles. It analyzes the curvature along each spindle and plots the results."
      ],
      "metadata": {
        "id": "ClTC1GJdSHuA"
      }
    },
    {
      "cell_type": "code",
      "source": [
        "import pandas as pd\n",
        "import numpy as np\n",
        "import math\n",
        "from scipy.interpolate import interp1d\n",
        "import csv\n",
        "from scipy import signal\n",
        "from matplotlib import pylab as plt\n",
        "from scipy.optimize import curve_fit\n",
        "from scipy import stats\n",
        "from PIL import Image\n",
        "from pylab import *\n",
        "import matplotlib.image as mpimg\n",
        "import matplotlib.pyplot as plt\n",
        "import seaborn as sns\n",
        "from itertools import accumulate\n",
        "\n",
        "\n",
        "def rad_from_points(x1, y1, x2, y2, x3, y3):\n",
        "\n",
        "    '''\n",
        "    takes coordinates of three points, (x1, y1), (x2, y2), and (x3, y3)\n",
        "    and returns the radius (r), and the coordinates of the center (xc, yc)\n",
        "    of the circle that passes through the three points.\n",
        "\n",
        "    The center of the circle can be found by finding the intersection\n",
        "    of the line that bisects the segment formed by (x1, y1) and (x2, y2),\n",
        "    and the line that bisects the segment formed by (x2, y2) and (x3, y3).\n",
        "    '''\n",
        "\n",
        "    ma = (y2 - y1)/(x2 - x1)\n",
        "    mb = (y3 - y2)/(x3 - x2)\n",
        "\n",
        "    xc = (ma*mb*(y1 - y3) + mb*(x1 + x2) - ma*(x2 + x3))/(2*(mb - ma))\n",
        "    yc = -1/ma*(xc - (x1 + x2)/2) + (y1 + y2)/2\n",
        "\n",
        "    if ma == mb:\n",
        "        r = np.inf\n",
        "    else:\n",
        "        r = np.hypot(xc - x1, yc - y1)\n",
        "\n",
        "    return(r, xc, yc)\n",
        "\n",
        "\n",
        "def radius_of_curvature_open(x_path, y_path, scale):\n",
        "\n",
        "    '''\n",
        "    takes a path (here, assumed to be a cell outline and thus a closed loop)\n",
        "    and returns the signed curvature value at each point (along w/ the centers\n",
        "    that form the evolute of the curve)\n",
        "    '''\n",
        "\n",
        "    r = []\n",
        "    xcs = []\n",
        "    ycs = []\n",
        "\n",
        "    num_points = len(x_path)\n",
        "\n",
        "    for i in range(scale,num_points-scale):\n",
        "        # points\n",
        "        x1 = x_path[i-int(scale)]\n",
        "        y1 = y_path[i-int(scale)]\n",
        "        x2 = x_path[i]\n",
        "        y2 = y_path[i]\n",
        "        x3 = x_path[i+int(scale)]\n",
        "        y3 = y_path[i+int(scale)]\n",
        "\n",
        "        # fit circle\n",
        "        rad, xc, yc = rad_from_points(x1, y1, x2, y2, x3, y3)\n",
        "\n",
        "        # get vector normal to path for sign of curvature\n",
        "        nv1 = np.cross(np.array([x2 - x1, y2 - y1, 0]), np.array([0 ,0, 1]))\n",
        "        nv2 = np.cross(np.array([x3 - x2, y3 - y2, 0]), np.array([0 ,0, 1]))\n",
        "\n",
        "        nv = np.average([nv1, nv2], axis = 0)\n",
        "\n",
        "        # get sign of dot product (and flip for convention that positive curvature is inward)\n",
        "        align = -np.sign(np.dot(nv[0:2], np.array([x2 - xc, y2 - yc])))\n",
        "\n",
        "\n",
        "        theta = np.linspace(-math.pi, math.pi, 100)\n",
        "        x_plot = rad * np.cos(theta) + xc\n",
        "        y_plot = rad * np.sin(theta) + yc\n",
        "\n",
        "        if rad == 0:\n",
        "            r.append(np.nan)\n",
        "        else:\n",
        "            r.append(align * 1./rad)\n",
        "\n",
        "        xcs.append(xc)\n",
        "        ycs.append(yc)\n",
        "\n",
        "    return(r, xcs, ycs)\n",
        "\n",
        "def rotation(x_arr,y_arr,angle):\n",
        "    \"\"\"Rotates a point around the origin (0,0) in the clockwise direction.\n",
        "       Angle is in radians. Point is a tuple\"\"\"\n",
        "    x_rot_arr, y_rot_arr = (x_arr*np.cos(angle)+y_arr*np.sin(angle),-x_arr*np.sin(angle)+y_arr*np.cos(angle))\n",
        "    return x_rot_arr, y_rot_arr\n",
        "\n",
        "def translation(x_arr,y_arr):\n",
        "    \"\"\"translate all point so that the first smallest value is the origin (0,0)\"\"\"\n",
        "    if x_arr[99] <= x_arr[0]:\n",
        "        x_trans_arr, y_trans_arr = (x_arr-x_arr[99],y_arr-y_arr[99])\n",
        "    else:\n",
        "        x_trans_arr, y_trans_arr = (x_arr-x_arr[0],y_arr-y_arr[0])\n",
        "    return x_trans_arr, y_trans_arr\n",
        "\n",
        "def flip(x_arr,y_arr):\n",
        "    \"\"\"flip the values in Y to get the curvarture upward all the time (0,0)\"\"\"\n",
        "    if min(y_arr) <= 0:\n",
        "        y_flip_arr = (y_arr*-1)\n",
        "    else:\n",
        "        y_flip_arr =y_arr\n",
        "    return x_arr, y_flip_arr\n",
        "\n",
        "def reverse(x_arr,y_arr):\n",
        "    \"\"\"reverse values in X and get the values in rising order -important for curvature calculation- \"\"\"\n",
        "    if x_arr[99] <= x_arr[0]:\n",
        "        x_rev=x_arr[::-1].reset_index(drop=True) ## twinking to reset the index after reversing\n",
        "        y_rev=y_arr#[::-1]\n",
        "    else:\n",
        "        x_rev=x_arr\n",
        "        y_rev=y_arr\n",
        "    return x_rev, y_rev"
      ],
      "metadata": {
        "id": "Xuht0Io9EVT_"
      },
      "execution_count": 1,
      "outputs": []
    },
    {
      "cell_type": "code",
      "source": [
        "'''\n",
        "    Getting Data from GitHub\n",
        "    '''\n",
        "\n",
        "# Base GitHub URL\n",
        "folder_path = \"https://raw.githubusercontent.com/JoelLEMI/Test/refs/heads/main/Data/Spindle%20Example%20Data/\"\n",
        "\n",
        "# Subfolder 'sp'\n",
        "loc = os.path.join(folder_path, 'sp')\n",
        "\n",
        "# Excluded Spindles (if data are not good enough for analysis)\n",
        "Excluded = []\n"
      ],
      "metadata": {
        "id": "z0QO5DIw0_v3"
      },
      "execution_count": 58,
      "outputs": []
    },
    {
      "cell_type": "code",
      "source": [
        "'''\n",
        "    Option 2 to get the Data:\n",
        "    Mounting Google Drive to get the data instead of GitHub\n",
        "    '''\n",
        "\n",
        "# Location of the data, mount Google drive\n",
        "from google.colab import drive\n",
        "drive.mount('/content/drive')\n",
        "\n",
        "# Path to the Data (folder)\n",
        "import os\n",
        "folder_path = '/content/drive/MyDrive/Paula-Spindle/Spindle Example Data/'\n",
        "os.listdir(folder_path)\n",
        "\n",
        "# Files with Data\n",
        "from pathlib import Path\n",
        "loc = os.path.join(folder_path, 'sp')\n",
        "\n",
        "# Excluded Spindles (if data are not good enough for analysis)\n",
        "Excluded=[]"
      ],
      "metadata": {
        "colab": {
          "base_uri": "https://localhost:8080/"
        },
        "id": "medQ_rlqGtjz",
        "outputId": "6760023c-7491-467a-9b97-44cfb3d2736c"
      },
      "execution_count": 57,
      "outputs": [
        {
          "output_type": "stream",
          "name": "stdout",
          "text": [
            "Mounted at /content/drive\n"
          ]
        }
      ]
    },
    {
      "cell_type": "code",
      "source": [
        "\"\"\"looping through the data to get lowest and highest curvature value on the Sp population\"\"\"\n",
        "Curvature_values=[]\n",
        "\n",
        "scale=5\n",
        "\n",
        "for i in range(3,5):\n",
        "    if i in Excluded: #Add exclude not well imaged spindles from the analysis\n",
        "            continue\n",
        "    data=pd.read_csv('%s%s/sp%s.csv'%(loc,i,i))\n",
        "    #data=pd.read_csv(f\"{loc}{i}/sp{i}.csv\")\n",
        "    y_path_1=data[\"Y\"]\n",
        "    x_path_1=data[\"X\"]\n",
        "\n",
        "    ##rotate the data using the angle between the first and last point\n",
        "    x_path_2,y_path_2 = reverse(x_path_1,y_path_1)\n",
        "    angle = np.arctan((y_path_2[0] - y_path_2[99]) / (x_path_2[0] - x_path_2[99]))\n",
        "    x_path_3,y_path_3 = rotation(x_path_2,y_path_2,angle)\n",
        "    x_path_4,y_path_4 = translation(x_path_3,y_path_3)\n",
        "    x_path,y_path = flip(x_path_4,y_path_4)\n",
        "\n",
        "    radius_1=radius_of_curvature_open(x_path, y_path, scale)[0]\n",
        "\n",
        "    # Concatenate curvatures values\n",
        "    for i in radius_1 :\n",
        "        Curvature_values.append(i)\n",
        "\n",
        "# Save the maximum curvature values from all spindles to calibrate the curvature scale later\n",
        "maxC=max(Curvature_values)\n",
        "minC=min(Curvature_values)"
      ],
      "metadata": {
        "id": "4wmje1ERQfWp"
      },
      "execution_count": 51,
      "outputs": []
    },
    {
      "cell_type": "code",
      "source": [
        "''' looping to get curvature on all spindles and save figure'''\n",
        "\n",
        "scale=5\n",
        "#a4_dims = (2,1)\n",
        "#fig, ax = plt.subplots(figsize=a4_dims)\n",
        "#sns.set_context(\"notebook\", font_scale=1.5)\n",
        "\n",
        "for i in range(3,5): ## this is the loop on the Spindles\n",
        "    if i in Excluded: #Add exclude not well imaged spindles from the analysis\n",
        "            continue\n",
        "    data=pd.read_csv('%s%s/sp%s.csv'%(loc,i,i))\n",
        "    y_path_1=data[\"Y\"]\n",
        "    x_path_1=data[\"X\"]\n",
        "\n",
        "    ##rotate the data using the angle between the first and last point\n",
        "    x_path_2,y_path_2 = reverse(x_path_1,y_path_1)\n",
        "    angle = np.arctan((y_path_2[0] - y_path_2[99]) / (x_path_2[0] - x_path_2[99]))\n",
        "    x_path_3,y_path_3 = rotation(x_path_2,y_path_2,angle)\n",
        "    x_path_4,y_path_4 = translation(x_path_3,y_path_3)\n",
        "    x_path,y_path = flip(x_path_4,y_path_4)\n",
        "\n",
        "    radius_1=radius_of_curvature_open(x_path, y_path, scale)[0]\n",
        "\n",
        "\n",
        "    #########################################################\n",
        "    #### Remove the first and last point of the spindle (2*scale)\n",
        "    ###############So that radius_1 and x_path, y_path have same length ########\n",
        "    # Input list initialization\n",
        "    Inputx = x_path\n",
        "    Inputy = y_path\n",
        "\n",
        "    # list of length in which we have to split\n",
        "    length_to_split = [scale, 100-2*scale, scale]\n",
        "\n",
        "    # Using islice\n",
        "    Outputx = [Inputx[x - y: x] for x, y in zip(accumulate(length_to_split), length_to_split)][1]\n",
        "    Outputy = [Inputy[x - y: x] for x, y in zip(accumulate(length_to_split), length_to_split)][1]\n",
        "\n",
        "    my_array = np.asarray(radius_1)\n",
        "\n",
        "    # Figures position\n",
        "    a4_dims = (2,1)\n",
        "    fig, ax = plt.subplots(figsize=a4_dims)\n",
        "    sns.set_context(\"notebook\", font_scale=1.5)\n",
        "\n",
        "\n",
        "    #color map options : bwr, coolwarm\n",
        "    #plt.scatter(Outputx,Outputy,marker='o',c=(my_array-minC)/(maxC-minC),cmap=plt.cm.YlOrRd, vmin=0, vmax=0.5,s=10,alpha=1)\n",
        "    plt.scatter(Outputx,Outputy,marker='o',c=(my_array-minC)/(maxC-minC),cmap=plt.cm.coolwarm, vmin=0, vmax=0.5,s=10,alpha=1)\n",
        "    plt.scatter(Outputx,Outputy,marker='.',s=1,linewidths=0.2,c='k',alpha=1)\n",
        "\n",
        "    plt.xlabel('X [µm]',fontsize=12)\n",
        "    plt.ylabel('Y [µm]',fontsize=12)\n",
        "\n",
        "\n",
        "    # Major ticks, minor ticks for the figures\n",
        "    x_ticks = np.arange(0, 8, 2)\n",
        "    y_ticks = np.arange(0,3, 2)\n",
        "\n",
        "    plt.xlim([0,6])\n",
        "    plt.ylim([0,3])\n",
        "\n",
        "    plt.yticks(fontsize=12)\n",
        "    plt.xticks(fontsize=12)\n",
        "\n",
        "    plt.xticks(x_ticks)\n",
        "    plt.yticks(y_ticks)\n",
        "\n"
      ],
      "metadata": {
        "colab": {
          "base_uri": "https://localhost:8080/",
          "height": 319
        },
        "id": "aR7wKjtmPYAc",
        "outputId": "ddbefa94-1e99-46aa-f4a8-076da3214086"
      },
      "execution_count": 56,
      "outputs": [
        {
          "output_type": "display_data",
          "data": {
            "text/plain": [
              "<Figure size 200x100 with 1 Axes>"
            ],
            "image/png": "[encoded data removed]"
          },
          "metadata": {}
        },
        {
          "output_type": "display_data",
          "data": {
            "text/plain": [
              "<Figure size 200x100 with 1 Axes>"
            ],
            "image/png": "[encoded data removed]"
          },
          "metadata": {}
        }
      ]
    },
    {
      "cell_type": "markdown",
      "source": [],
      "metadata": {
        "id": "nM2CWErhETUf"
      }
    }
  ]
}